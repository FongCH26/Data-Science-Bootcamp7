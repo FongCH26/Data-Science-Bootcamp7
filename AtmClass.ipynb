{
  "nbformat": 4,
  "nbformat_minor": 0,
  "metadata": {
    "colab": {
      "provenance": []
    },
    "kernelspec": {
      "name": "python3",
      "display_name": "Python 3"
    },
    "language_info": {
      "name": "python"
    }
  },
  "cells": [
    {
      "cell_type": "code",
      "execution_count": 1,
      "metadata": {
        "id": "TK9xxu5Xuubp"
      },
      "outputs": [],
      "source": [
        "class Atm:\n",
        "    def __init__(self, name, bank, balance, account_type):\n",
        "        self.name = name\n",
        "        self.bank = bank\n",
        "        self.balance = balance\n",
        "        self.account_type = account_type\n",
        "\n",
        "    #deposit\n",
        "    def deposit(self, amount):\n",
        "        self.balance += amount\n",
        "        print(f\"Balance is {self.balance}\")\n",
        "\n",
        "    #withdraw\n",
        "    def withdraw(self, amount):\n",
        "        self.balance -= amount\n",
        "        print(f\"Balance is {self.balance}\")\n",
        "\n",
        "    #transfer\n",
        "    def transfer(self,target,amount):\n",
        "        self.balance -= amount\n",
        "        target.balance += amount\n",
        "        print(f\" {self.name} Balance is {self.balance}\")\n",
        "        print(f\" {target.name} Balance is {target.balance}\")\n",
        "\n",
        "    #bank name\n",
        "    def showbank(self):\n",
        "        print(f\"Your bank is {self.bank}\")\n",
        "\n",
        "    #account type\n",
        "    def show_account_type(self):\n",
        "        print(f\"Your bank account is {self.account_type}\")\n",
        "\n",
        "acc1 = Atm(\"YingYong\",\"UOB\",45000, \"savings\")\n",
        "acc2 = Atm(\"Siri\",\"SCB\",800000, \"fixed\")\n",
        "acc3 = Atm(\"Porpheang\",\"Kbank\",200000 ,\"savings\")\n",
        "acc4 = Atm(\"Nhammon\",\"TMB\",250,\"saving\")"
      ]
    },
    {
      "cell_type": "code",
      "source": [
        "acc4.withdraw(800)"
      ],
      "metadata": {
        "colab": {
          "base_uri": "https://localhost:8080/"
        },
        "id": "12mc4DR5vV7I",
        "outputId": "f53457fb-6e5e-4fc0-db14-3b28049d6e0e"
      },
      "execution_count": 3,
      "outputs": [
        {
          "output_type": "stream",
          "name": "stdout",
          "text": [
            "Balance is -550\n"
          ]
        }
      ]
    },
    {
      "cell_type": "code",
      "source": [
        "acc1.show_account_type()"
      ],
      "metadata": {
        "colab": {
          "base_uri": "https://localhost:8080/"
        },
        "id": "BmZFF3E-vryg",
        "outputId": "2f2edf03-0cd0-4d83-df3a-7d7c4c0e254c"
      },
      "execution_count": 4,
      "outputs": [
        {
          "output_type": "stream",
          "name": "stdout",
          "text": [
            "Your bank account is savings\n"
          ]
        }
      ]
    },
    {
      "cell_type": "code",
      "source": [
        "acc4.showbank()"
      ],
      "metadata": {
        "colab": {
          "base_uri": "https://localhost:8080/"
        },
        "id": "vpMBo3zzv0Vg",
        "outputId": "ee8cc57d-2742-4602-ec47-4494065e6613"
      },
      "execution_count": 5,
      "outputs": [
        {
          "output_type": "stream",
          "name": "stdout",
          "text": [
            "Your bank is TMB\n"
          ]
        }
      ]
    },
    {
      "cell_type": "code",
      "source": [
        "acc4.deposit(650000)"
      ],
      "metadata": {
        "colab": {
          "base_uri": "https://localhost:8080/"
        },
        "id": "-Xw76EA3v_sn",
        "outputId": "05ab0b40-ce2f-4668-8f21-f03d986c3f5a"
      },
      "execution_count": 6,
      "outputs": [
        {
          "output_type": "stream",
          "name": "stdout",
          "text": [
            "Balance is 649450\n"
          ]
        }
      ]
    }
  ]
}