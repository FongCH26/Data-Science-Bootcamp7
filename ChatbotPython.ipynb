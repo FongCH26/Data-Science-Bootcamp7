{
  "nbformat": 4,
  "nbformat_minor": 0,
  "metadata": {
    "colab": {
      "provenance": []
    },
    "kernelspec": {
      "name": "python3",
      "display_name": "Python 3"
    },
    "language_info": {
      "name": "python"
    }
  },
  "cells": [
    {
      "cell_type": "code",
      "execution_count": 3,
      "metadata": {
        "id": "AgMvMk5Dtk4d"
      },
      "outputs": [],
      "source": [
        "def pizza_chatbot():\n",
        "    number = []\n",
        "    size = []\n",
        "    topping = []\n",
        "\n",
        "    while True:\n",
        "        print(\"Welcome to Pizza store, Let's Get some great Pizza!\")\n",
        "        print(\"If you want to cancle this order please 'exit' \")\n",
        "\n",
        "        #number of pizza\n",
        "        number_in = input(\"What amount of pizza do you want? (1-10)\")\n",
        "        if number_in == \"exit\":\n",
        "            return \"cancle the order\"\n",
        "            break\n",
        "        else :\n",
        "            number.append(number_in)\n",
        "\n",
        "        #size of pizze\n",
        "        size_in = input(\"Which size you want> (S / M / L)\")\n",
        "        if size_in == \"exit\":\n",
        "            return \"cancle the order\"\n",
        "            break\n",
        "        else :\n",
        "            size.append(size_in)\n",
        "\n",
        "        #topping type\n",
        "        topping_in = input(\"Pick the topping Such as Pepperoni, Bacon or Pineapple) \")\n",
        "        if topping_in == \"exit\":\n",
        "            return \"cancle the order\"\n",
        "            break\n",
        "        else :\n",
        "            topping.append(topping_in)\n",
        "\n",
        "        print(f\"You order {number} pizza in {size} with {topping} on top Thank You\")\n",
        "        break"
      ]
    },
    {
      "cell_type": "code",
      "source": [
        "pizza_chatbot()"
      ],
      "metadata": {
        "colab": {
          "base_uri": "https://localhost:8080/"
        },
        "id": "6CxsFO8Stsmv",
        "outputId": "0d6a0016-4ace-4d83-c1b6-862989c54d09"
      },
      "execution_count": 4,
      "outputs": [
        {
          "output_type": "stream",
          "name": "stdout",
          "text": [
            "Welcome to Pizza store, Let's Get some great Pizza!\n",
            "If you want to cancle this order please 'exit' \n",
            "What amount of pizza do you want? (1-10)3\n",
            "Which size you want> (S / M / L)S\n",
            "Pick the topping Such as Pepperoni, Bacon or Pineapple) Pepperoni\n",
            "You order ['3'] pizza in ['S'] with ['Pepperoni'] on top Thank You\n"
          ]
        }
      ]
    }
  ]
}