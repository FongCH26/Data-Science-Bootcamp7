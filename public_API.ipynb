{
  "nbformat": 4,
  "nbformat_minor": 0,
  "metadata": {
    "colab": {
      "provenance": []
    },
    "kernelspec": {
      "name": "python3",
      "display_name": "Python 3"
    },
    "language_info": {
      "name": "python"
    }
  },
  "cells": [
    {
      "cell_type": "code",
      "execution_count": 29,
      "metadata": {
        "id": "g8QegpnLxpf4"
      },
      "outputs": [],
      "source": [
        "# API get request\n",
        "import pandas as pd\n",
        "from requests import get\n",
        "from time import sleep"
      ]
    },
    {
      "cell_type": "code",
      "source": [
        "nums = list(range(1, 6))\n",
        "\n",
        "result = []\n",
        "\n",
        "for i in nums:\n",
        "    url = f\"http://acnhapi.com/v1a/villagers/{i}\"\n",
        "    response = get(url)\n",
        "    data = response.json()\n",
        "    row = [\n",
        "        data[\"id\"],\n",
        "        data[\"name\"][\"name-USen\"],\n",
        "        data[\"personality\"],\n",
        "        data[\"species\"],\n",
        "        data[\"gender\"],\n",
        "        data[\"hobby\"],\n",
        "        data[\"catch-phrase\"]\n",
        "    ]\n",
        "    result.append(row)\n",
        "    sleep(1)\n",
        "\n",
        "result"
      ],
      "metadata": {
        "colab": {
          "base_uri": "https://localhost:8080/"
        },
        "id": "9uX7xRcax4Tp",
        "outputId": "2fee5404-e3f7-4297-caca-36d0c9325da1"
      },
      "execution_count": 30,
      "outputs": [
        {
          "output_type": "execute_result",
          "data": {
            "text/plain": [
              "[[1, 'Cyrano', 'Cranky', 'Anteater', 'Male', 'Education', 'ah-CHOO'],\n",
              " [2, 'Antonio', 'Jock', 'Anteater', 'Male', 'Fitness', 'honk'],\n",
              " [3, 'Pango', 'Peppy', 'Anteater', 'Female', 'Fashion', 'snooooof'],\n",
              " [4, 'Anabelle', 'Peppy', 'Anteater', 'Female', 'Fashion', 'snorty'],\n",
              " [5, 'Snooty', 'Snooty', 'Anteater', 'Female', 'Education', 'sniffff']]"
            ]
          },
          "metadata": {},
          "execution_count": 30
        }
      ]
    },
    {
      "cell_type": "code",
      "source": [
        "df = pd.DataFrame(result, columns=[\"id\", \"name(eng)\", \"personality\", \"species\", \"gender\", \"hobby\", \"catch-phrase\"])\n",
        "df"
      ],
      "metadata": {
        "colab": {
          "base_uri": "https://localhost:8080/",
          "height": 206
        },
        "id": "4GGVxxsl0MdA",
        "outputId": "0ef036b4-6cda-481b-c30e-68ebc531bd65"
      },
      "execution_count": 31,
      "outputs": [
        {
          "output_type": "execute_result",
          "data": {
            "text/plain": [
              "   id name(eng) personality   species  gender      hobby catch-phrase\n",
              "0   1    Cyrano      Cranky  Anteater    Male  Education      ah-CHOO\n",
              "1   2   Antonio        Jock  Anteater    Male    Fitness         honk\n",
              "2   3     Pango       Peppy  Anteater  Female    Fashion     snooooof\n",
              "3   4  Anabelle       Peppy  Anteater  Female    Fashion       snorty\n",
              "4   5    Snooty      Snooty  Anteater  Female  Education      sniffff"
            ],
            "text/html": [
              "\n",
              "  <div id=\"df-d7ce5988-1081-4867-ac5a-9b55eda9bdf1\">\n",
              "    <div class=\"colab-df-container\">\n",
              "      <div>\n",
              "<style scoped>\n",
              "    .dataframe tbody tr th:only-of-type {\n",
              "        vertical-align: middle;\n",
              "    }\n",
              "\n",
              "    .dataframe tbody tr th {\n",
              "        vertical-align: top;\n",
              "    }\n",
              "\n",
              "    .dataframe thead th {\n",
              "        text-align: right;\n",
              "    }\n",
              "</style>\n",
              "<table border=\"1\" class=\"dataframe\">\n",
              "  <thead>\n",
              "    <tr style=\"text-align: right;\">\n",
              "      <th></th>\n",
              "      <th>id</th>\n",
              "      <th>name(eng)</th>\n",
              "      <th>personality</th>\n",
              "      <th>species</th>\n",
              "      <th>gender</th>\n",
              "      <th>hobby</th>\n",
              "      <th>catch-phrase</th>\n",
              "    </tr>\n",
              "  </thead>\n",
              "  <tbody>\n",
              "    <tr>\n",
              "      <th>0</th>\n",
              "      <td>1</td>\n",
              "      <td>Cyrano</td>\n",
              "      <td>Cranky</td>\n",
              "      <td>Anteater</td>\n",
              "      <td>Male</td>\n",
              "      <td>Education</td>\n",
              "      <td>ah-CHOO</td>\n",
              "    </tr>\n",
              "    <tr>\n",
              "      <th>1</th>\n",
              "      <td>2</td>\n",
              "      <td>Antonio</td>\n",
              "      <td>Jock</td>\n",
              "      <td>Anteater</td>\n",
              "      <td>Male</td>\n",
              "      <td>Fitness</td>\n",
              "      <td>honk</td>\n",
              "    </tr>\n",
              "    <tr>\n",
              "      <th>2</th>\n",
              "      <td>3</td>\n",
              "      <td>Pango</td>\n",
              "      <td>Peppy</td>\n",
              "      <td>Anteater</td>\n",
              "      <td>Female</td>\n",
              "      <td>Fashion</td>\n",
              "      <td>snooooof</td>\n",
              "    </tr>\n",
              "    <tr>\n",
              "      <th>3</th>\n",
              "      <td>4</td>\n",
              "      <td>Anabelle</td>\n",
              "      <td>Peppy</td>\n",
              "      <td>Anteater</td>\n",
              "      <td>Female</td>\n",
              "      <td>Fashion</td>\n",
              "      <td>snorty</td>\n",
              "    </tr>\n",
              "    <tr>\n",
              "      <th>4</th>\n",
              "      <td>5</td>\n",
              "      <td>Snooty</td>\n",
              "      <td>Snooty</td>\n",
              "      <td>Anteater</td>\n",
              "      <td>Female</td>\n",
              "      <td>Education</td>\n",
              "      <td>sniffff</td>\n",
              "    </tr>\n",
              "  </tbody>\n",
              "</table>\n",
              "</div>\n",
              "      <button class=\"colab-df-convert\" onclick=\"convertToInteractive('df-d7ce5988-1081-4867-ac5a-9b55eda9bdf1')\"\n",
              "              title=\"Convert this dataframe to an interactive table.\"\n",
              "              style=\"display:none;\">\n",
              "        \n",
              "  <svg xmlns=\"http://www.w3.org/2000/svg\" height=\"24px\"viewBox=\"0 0 24 24\"\n",
              "       width=\"24px\">\n",
              "    <path d=\"M0 0h24v24H0V0z\" fill=\"none\"/>\n",
              "    <path d=\"M18.56 5.44l.94 2.06.94-2.06 2.06-.94-2.06-.94-.94-2.06-.94 2.06-2.06.94zm-11 1L8.5 8.5l.94-2.06 2.06-.94-2.06-.94L8.5 2.5l-.94 2.06-2.06.94zm10 10l.94 2.06.94-2.06 2.06-.94-2.06-.94-.94-2.06-.94 2.06-2.06.94z\"/><path d=\"M17.41 7.96l-1.37-1.37c-.4-.4-.92-.59-1.43-.59-.52 0-1.04.2-1.43.59L10.3 9.45l-7.72 7.72c-.78.78-.78 2.05 0 2.83L4 21.41c.39.39.9.59 1.41.59.51 0 1.02-.2 1.41-.59l7.78-7.78 2.81-2.81c.8-.78.8-2.07 0-2.86zM5.41 20L4 18.59l7.72-7.72 1.47 1.35L5.41 20z\"/>\n",
              "  </svg>\n",
              "      </button>\n",
              "      \n",
              "  <style>\n",
              "    .colab-df-container {\n",
              "      display:flex;\n",
              "      flex-wrap:wrap;\n",
              "      gap: 12px;\n",
              "    }\n",
              "\n",
              "    .colab-df-convert {\n",
              "      background-color: #E8F0FE;\n",
              "      border: none;\n",
              "      border-radius: 50%;\n",
              "      cursor: pointer;\n",
              "      display: none;\n",
              "      fill: #1967D2;\n",
              "      height: 32px;\n",
              "      padding: 0 0 0 0;\n",
              "      width: 32px;\n",
              "    }\n",
              "\n",
              "    .colab-df-convert:hover {\n",
              "      background-color: #E2EBFA;\n",
              "      box-shadow: 0px 1px 2px rgba(60, 64, 67, 0.3), 0px 1px 3px 1px rgba(60, 64, 67, 0.15);\n",
              "      fill: #174EA6;\n",
              "    }\n",
              "\n",
              "    [theme=dark] .colab-df-convert {\n",
              "      background-color: #3B4455;\n",
              "      fill: #D2E3FC;\n",
              "    }\n",
              "\n",
              "    [theme=dark] .colab-df-convert:hover {\n",
              "      background-color: #434B5C;\n",
              "      box-shadow: 0px 1px 3px 1px rgba(0, 0, 0, 0.15);\n",
              "      filter: drop-shadow(0px 1px 2px rgba(0, 0, 0, 0.3));\n",
              "      fill: #FFFFFF;\n",
              "    }\n",
              "  </style>\n",
              "\n",
              "      <script>\n",
              "        const buttonEl =\n",
              "          document.querySelector('#df-d7ce5988-1081-4867-ac5a-9b55eda9bdf1 button.colab-df-convert');\n",
              "        buttonEl.style.display =\n",
              "          google.colab.kernel.accessAllowed ? 'block' : 'none';\n",
              "\n",
              "        async function convertToInteractive(key) {\n",
              "          const element = document.querySelector('#df-d7ce5988-1081-4867-ac5a-9b55eda9bdf1');\n",
              "          const dataTable =\n",
              "            await google.colab.kernel.invokeFunction('convertToInteractive',\n",
              "                                                     [key], {});\n",
              "          if (!dataTable) return;\n",
              "\n",
              "          const docLinkHtml = 'Like what you see? Visit the ' +\n",
              "            '<a target=\"_blank\" href=https://colab.research.google.com/notebooks/data_table.ipynb>data table notebook</a>'\n",
              "            + ' to learn more about interactive tables.';\n",
              "          element.innerHTML = '';\n",
              "          dataTable['output_type'] = 'display_data';\n",
              "          await google.colab.output.renderOutput(dataTable, element);\n",
              "          const docLink = document.createElement('div');\n",
              "          docLink.innerHTML = docLinkHtml;\n",
              "          element.appendChild(docLink);\n",
              "        }\n",
              "      </script>\n",
              "    </div>\n",
              "  </div>\n",
              "  "
            ]
          },
          "metadata": {},
          "execution_count": 31
        }
      ]
    },
    {
      "cell_type": "code",
      "source": [
        "df.info()"
      ],
      "metadata": {
        "colab": {
          "base_uri": "https://localhost:8080/"
        },
        "id": "lRdE0now1xc4",
        "outputId": "8e9b5143-5969-418c-9228-e14f230244a8"
      },
      "execution_count": 32,
      "outputs": [
        {
          "output_type": "stream",
          "name": "stdout",
          "text": [
            "<class 'pandas.core.frame.DataFrame'>\n",
            "RangeIndex: 5 entries, 0 to 4\n",
            "Data columns (total 7 columns):\n",
            " #   Column        Non-Null Count  Dtype \n",
            "---  ------        --------------  ----- \n",
            " 0   id            5 non-null      int64 \n",
            " 1   name(eng)     5 non-null      object\n",
            " 2   personality   5 non-null      object\n",
            " 3   species       5 non-null      object\n",
            " 4   gender        5 non-null      object\n",
            " 5   hobby         5 non-null      object\n",
            " 6   catch-phrase  5 non-null      object\n",
            "dtypes: int64(1), object(6)\n",
            "memory usage: 408.0+ bytes\n"
          ]
        }
      ]
    }
  ]
}